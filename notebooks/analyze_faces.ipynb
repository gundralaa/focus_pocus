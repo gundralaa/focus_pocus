{
 "cells": [
  {
   "cell_type": "code",
   "execution_count": 1,
   "metadata": {},
   "outputs": [],
   "source": [
    "# Import\n",
    "import numpy as np"
   ]
  },
  {
   "cell_type": "code",
   "execution_count": 3,
   "metadata": {},
   "outputs": [
    {
     "data": {
      "text/plain": [
       "20"
      ]
     },
     "execution_count": 3,
     "metadata": {},
     "output_type": "execute_result"
    }
   ],
   "source": [
    "\n",
    "# USE MNE\n",
    "# Load Data\n",
    "fname = 'data/09-15-22-12-29.txt'\n",
    "data = np.loadtxt(fname)\n",
    "\n",
    "np.count_nonzero(data[1])\n",
    "\n",
    "face_ind = np.where(data == 1)\n",
    "house_ind = np.where(data == 2)\n",
    "\n",
    "samples = []\n",
    "\n"
   ]
  }
 ],
 "metadata": {
  "kernelspec": {
   "display_name": "Python 3.9.13 ('venv': venv)",
   "language": "python",
   "name": "python3"
  },
  "language_info": {
   "codemirror_mode": {
    "name": "ipython",
    "version": 3
   },
   "file_extension": ".py",
   "mimetype": "text/x-python",
   "name": "python",
   "nbconvert_exporter": "python",
   "pygments_lexer": "ipython3",
   "version": "3.9.13"
  },
  "orig_nbformat": 4,
  "vscode": {
   "interpreter": {
    "hash": "09f70cd728943774c83964c251c143ae6a7808759f56f8c9d9619dd5d7fe4eeb"
   }
  }
 },
 "nbformat": 4,
 "nbformat_minor": 2
}
